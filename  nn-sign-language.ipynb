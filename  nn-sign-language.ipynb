{
 "cells": [
  {
   "cell_type": "code",
   "execution_count": 2,
   "metadata": {
    "_cell_guid": "b1076dfc-b9ad-4769-8c92-a6c4dae69d19",
    "_uuid": "8f2839f25d086af736a60e9eeb907d3b93b6e0e5",
    "execution": {
     "iopub.execute_input": "2023-05-03T19:44:48.363957Z",
     "iopub.status.busy": "2023-05-03T19:44:48.362863Z",
     "iopub.status.idle": "2023-05-03T19:44:56.179932Z",
     "shell.execute_reply": "2023-05-03T19:44:56.179042Z",
     "shell.execute_reply.started": "2023-05-03T19:44:48.363899Z"
    }
   },
   "outputs": [
    {
     "name": "stderr",
     "output_type": "stream",
     "text": [
      "/opt/conda/lib/python3.10/site-packages/scipy/__init__.py:146: UserWarning: A NumPy version >=1.16.5 and <1.23.0 is required for this version of SciPy (detected version 1.23.5\n",
      "  warnings.warn(f\"A NumPy version >={np_minversion} and <{np_maxversion}\"\n"
     ]
    }
   ],
   "source": [
    "import numpy as np \n",
    "import pandas as pd \n",
    "import cv2\n",
    "import os\n",
    "import tensorflow as tf\n",
    "import keras \n",
    "import matplotlib.pyplot as plt\n",
    "%matplotlib inline\n",
    "import glob as gb"
   ]
  },
  {
   "cell_type": "code",
   "execution_count": 3,
   "metadata": {
    "execution": {
     "iopub.execute_input": "2023-05-03T19:44:56.182520Z",
     "iopub.status.busy": "2023-05-03T19:44:56.181621Z",
     "iopub.status.idle": "2023-05-03T19:44:56.191006Z",
     "shell.execute_reply": "2023-05-03T19:44:56.189947Z",
     "shell.execute_reply.started": "2023-05-03T19:44:56.182488Z"
    }
   },
   "outputs": [
    {
     "name": "stdout",
     "output_type": "stream",
     "text": [
      "0\n",
      "C\n"
     ]
    }
   ],
   "source": [
    "arr_al={'A':0,\n",
    "        'B':1,\n",
    "        'C':2,\n",
    "        'D':3,\n",
    "        'E':4,\n",
    "        'F':5,\n",
    "        'G':6,\n",
    "        'H':7,\n",
    "        'I':8,\n",
    "        'J':9,\n",
    "        'K':10,\n",
    "        'L':11,\n",
    "        'M':12,\n",
    "        'N':13,\n",
    "        'O':14,\n",
    "        'P':15,\n",
    "        'Q':16,\n",
    "        'R':17,\n",
    "        'S':18,\n",
    "        'T':19,\n",
    "        'U':20,\n",
    "        'V':21,\n",
    "        'W':22,\n",
    "        'X':23,\n",
    "        'Y':24,\n",
    "        'Z':25,\n",
    "        'del':26,\n",
    "        'space':27,\n",
    "        'nothing':28\n",
    "        }\n",
    "def get_char(a):\n",
    "       for i,j in  arr_al.items():\n",
    "            if a==j:\n",
    "                return i\n",
    "def get_charnumper(a):\n",
    "       for i,j in  arr_al.items():\n",
    "            if a==i:\n",
    "                return j\n",
    "aa=get_charnumper('A')\n",
    "print(aa)\n",
    "aa=get_char(2)\n",
    "print(aa)\n",
    "data='/kaggle/input/aslamerican-sign-language-aplhabet-dataset/ASL_Alphabet_Dataset/'\n",
    "data_valid='/kaggle/input/aslamerican-sign-language-aplhabet-dataset/ASL_Alphabet_Dataset/'"
   ]
  },
  {
   "cell_type": "code",
   "execution_count": 4,
   "metadata": {
    "execution": {
     "iopub.execute_input": "2023-05-03T19:44:56.192941Z",
     "iopub.status.busy": "2023-05-03T19:44:56.192449Z",
     "iopub.status.idle": "2023-05-03T19:45:59.062774Z",
     "shell.execute_reply": "2023-05-03T19:45:59.062072Z",
     "shell.execute_reply.started": "2023-05-03T19:44:56.192876Z"
    }
   },
   "outputs": [
    {
     "name": "stdout",
     "output_type": "stream",
     "text": [
      "1\n",
      "1\n",
      "1\n",
      "1\n",
      "1\n",
      "1\n",
      "1\n",
      "1\n",
      "1\n",
      "1\n",
      "1\n",
      "1\n",
      "1\n",
      "1\n",
      "1\n",
      "1\n",
      "1\n",
      "1\n",
      "1\n",
      "1\n",
      "1\n",
      "1\n",
      "1\n",
      "1\n",
      "1\n",
      "1\n",
      "1\n",
      "1\n",
      "1\n"
     ]
    }
   ],
   "source": [
    "s=100\n",
    "x_v=[]\n",
    "y_v=[]\n",
    "for folder in os.listdir(data+'asl_alphabet_train'):\n",
    "    files=gb.glob(pathname=str(data+'asl_alphabet_train//'+folder+'/*.jpg'))\n",
    "    for f in files:\n",
    "        for i in range(1000):\n",
    "            i=cv2.imread(f)\n",
    "            i_arr=cv2.resize(i,(s,s))\n",
    "            x_v.append(list(i_arr))\n",
    "            y_v.append(folder)\n",
    "        break\n",
    "    print(\"1\")"
   ]
  },
  {
   "cell_type": "code",
   "execution_count": 5,
   "metadata": {
    "execution": {
     "iopub.execute_input": "2023-05-03T19:45:59.065185Z",
     "iopub.status.busy": "2023-05-03T19:45:59.064658Z",
     "iopub.status.idle": "2023-05-03T19:45:59.075271Z",
     "shell.execute_reply": "2023-05-03T19:45:59.074405Z",
     "shell.execute_reply.started": "2023-05-03T19:45:59.065149Z"
    }
   },
   "outputs": [
    {
     "name": "stdout",
     "output_type": "stream",
     "text": [
      "29000\n",
      "29000\n",
      "13\n"
     ]
    }
   ],
   "source": [
    "print(len(x_v))\n",
    "print(len(y_v))\n",
    "for i in range(len(y_v)):\n",
    "    y_v[i]=arr_al[y_v[i]]\n",
    "print(y_v[2])"
   ]
  },
  {
   "cell_type": "code",
   "execution_count": 6,
   "metadata": {
    "execution": {
     "iopub.execute_input": "2023-05-03T19:45:59.076501Z",
     "iopub.status.busy": "2023-05-03T19:45:59.076226Z",
     "iopub.status.idle": "2023-05-03T19:45:59.363850Z",
     "shell.execute_reply": "2023-05-03T19:45:59.362955Z",
     "shell.execute_reply.started": "2023-05-03T19:45:59.076478Z"
    }
   },
   "outputs": [],
   "source": [
    "kerasmodel=keras.models.Sequential([\n",
    "    keras.layers.Conv2D(200,kernel_size=(3,3),activation='relu',input_shape=(s,s,3)),\n",
    "    keras.layers.Conv2D(150,kernel_size=(3,3),activation='relu'),\n",
    "    keras.layers.MaxPool2D(4,4),\n",
    "    keras.layers.Conv2D(120,kernel_size=(3,3),activation='relu'),\n",
    "    keras.layers.Conv2D(80,kernel_size=(3,3),activation='relu'),\n",
    "    keras.layers.Conv2D(50,kernel_size=(3,3),activation='relu'),\n",
    "    keras.layers.MaxPool2D(4,4),\n",
    "    keras.layers.Flatten(),\n",
    "    keras.layers.Dense(120,activation='relu'),\n",
    "    keras.layers.Dense(100,activation='relu'),   \n",
    "    keras.layers.Dense(50,activation='relu'),\n",
    "    keras.layers.Dropout(.4),\n",
    "    keras.layers.Dense(29,activation='softmax'),\n",
    "    \n",
    "])"
   ]
  },
  {
   "cell_type": "code",
   "execution_count": 7,
   "metadata": {
    "execution": {
     "iopub.execute_input": "2023-05-03T19:45:59.365141Z",
     "iopub.status.busy": "2023-05-03T19:45:59.364896Z",
     "iopub.status.idle": "2023-05-03T19:46:00.004427Z",
     "shell.execute_reply": "2023-05-03T19:46:00.003679Z",
     "shell.execute_reply.started": "2023-05-03T19:45:59.365118Z"
    }
   },
   "outputs": [],
   "source": [
    "from sklearn.model_selection import train_test_split\n",
    "x_train,x_test,y_train,y_test=train_test_split(x_v,y_v,test_size=0.2,random_state=42)\n"
   ]
  },
  {
   "cell_type": "code",
   "execution_count": 8,
   "metadata": {
    "execution": {
     "iopub.execute_input": "2023-05-03T19:46:00.006228Z",
     "iopub.status.busy": "2023-05-03T19:46:00.005701Z",
     "iopub.status.idle": "2023-05-03T19:46:00.025218Z",
     "shell.execute_reply": "2023-05-03T19:46:00.024232Z",
     "shell.execute_reply.started": "2023-05-03T19:46:00.006198Z"
    }
   },
   "outputs": [],
   "source": [
    "kerasmodel.compile(optimizer = 'adam', loss = 'sparse_categorical_crossentropy',  metrics=['accuracy'])"
   ]
  },
  {
   "cell_type": "code",
   "execution_count": 9,
   "metadata": {
    "execution": {
     "iopub.execute_input": "2023-05-03T19:46:00.026757Z",
     "iopub.status.busy": "2023-05-03T19:46:00.026471Z",
     "iopub.status.idle": "2023-05-03T19:46:01.633304Z",
     "shell.execute_reply": "2023-05-03T19:46:01.632455Z",
     "shell.execute_reply.started": "2023-05-03T19:46:00.026733Z"
    }
   },
   "outputs": [],
   "source": [
    "x_train = np.array(x_train)\n",
    "x_test = np.array(x_test)\n",
    "y_train = np.array(y_train)\n",
    "y_test = np.array(y_test)"
   ]
  },
  {
   "cell_type": "code",
   "execution_count": 11,
   "metadata": {
    "execution": {
     "iopub.execute_input": "2023-05-03T21:41:16.504147Z",
     "iopub.status.busy": "2023-05-03T21:41:16.503129Z",
     "iopub.status.idle": "2023-05-04T02:15:39.206717Z",
     "shell.execute_reply": "2023-05-04T02:15:39.205983Z",
     "shell.execute_reply.started": "2023-05-03T21:41:16.504098Z"
    }
   },
   "outputs": [
    {
     "name": "stdout",
     "output_type": "stream",
     "text": [
      "Epoch 1/4\n",
      "363/363 [==============================] - 4094s 11s/step - loss: 0.0645 - accuracy: 0.9807\n",
      "Epoch 2/4\n",
      "363/363 [==============================] - 4095s 11s/step - loss: 0.0294 - accuracy: 0.9896\n",
      "Epoch 3/4\n",
      "363/363 [==============================] - 4115s 11s/step - loss: 0.0279 - accuracy: 0.9898\n",
      "Epoch 4/4\n",
      "363/363 [==============================] - 4146s 11s/step - loss: 0.0268 - accuracy: 0.9904\n"
     ]
    },
    {
     "data": {
      "text/plain": [
       "<keras.callbacks.History at 0x767eaf40f2b0>"
      ]
     },
     "execution_count": 11,
     "metadata": {},
     "output_type": "execute_result"
    }
   ],
   "source": [
    "epochs=4\n",
    "kerasmodel.fit(x_train, y_train, epochs = epochs, batch_size = 64, verbose = 1)"
   ]
  },
  {
   "cell_type": "code",
   "execution_count": 13,
   "metadata": {
    "execution": {
     "iopub.execute_input": "2023-05-04T02:15:53.505672Z",
     "iopub.status.busy": "2023-05-04T02:15:53.504773Z",
     "iopub.status.idle": "2023-05-04T02:20:58.776723Z",
     "shell.execute_reply": "2023-05-04T02:20:58.775975Z",
     "shell.execute_reply.started": "2023-05-04T02:15:53.505635Z"
    }
   },
   "outputs": [
    {
     "name": "stdout",
     "output_type": "stream",
     "text": [
      "182/182 [==============================] - 305s 2s/step - loss: 0.0000e+00 - accuracy: 1.0000\n",
      "model_loss0.0\n",
      "model_acurcy1.0\n"
     ]
    }
   ],
   "source": [
    "model_loss,model_acurcy=kerasmodel.evaluate(x_test,y_test)\n",
    "print(f'model_loss{model_loss}')\n",
    "print(f'model_acurcy{model_acurcy}')"
   ]
  },
  {
   "cell_type": "code",
   "execution_count": 17,
   "metadata": {
    "execution": {
     "iopub.execute_input": "2023-05-04T02:22:31.797731Z",
     "iopub.status.busy": "2023-05-04T02:22:31.797319Z",
     "iopub.status.idle": "2023-05-04T02:22:31.820294Z",
     "shell.execute_reply": "2023-05-04T02:22:31.818961Z",
     "shell.execute_reply.started": "2023-05-04T02:22:31.797690Z"
    }
   },
   "outputs": [
    {
     "name": "stdout",
     "output_type": "stream",
     "text": [
      "0\n"
     ]
    }
   ],
   "source": [
    "#y_prdict=kerasmodel.predict(x_test)\n",
    "s=100\n",
    "x_valid=[]\n",
    "for folder in os.listdir(data_valid+'asl_alphabet_train'):\n",
    "    files=gb.glob(pathname=str(data_valid+'asl_alphabet_train//'+'/*.jpg'))\n",
    "    for f in files:\n",
    "        i=cv2.imread(f)\n",
    "        i_arr=cv2.resize(i,(s,s))\n",
    "        x_valid.append(list(i_arr))\n",
    "print (len(x_valid))"
   ]
  },
  {
   "cell_type": "code",
   "execution_count": null,
   "metadata": {},
   "outputs": [],
   "source": [
    "y_prdict=kerasmodel.predict(x_valid)"
   ]
  },
  {
   "cell_type": "code",
   "execution_count": null,
   "metadata": {
    "execution": {
     "iopub.status.busy": "2023-05-04T02:15:50.187287Z",
     "iopub.status.idle": "2023-05-04T02:15:50.188206Z",
     "shell.execute_reply": "2023-05-04T02:15:50.187942Z",
     "shell.execute_reply.started": "2023-05-04T02:15:50.187913Z"
    }
   },
   "outputs": [],
   "source": [
    "plt.figure(figsize=(20,20))\n",
    "for n in emumerate(list(np.random.randint(0,len(x_valid),36))):\n",
    "    plt.subplot(6,6,,n+1)\n",
    "    plt.imshow(x_valid[n])\n",
    "    plt.axis(off)\n",
    "    plt.title(get_char(np.argmax(x_valid[n])))"
   ]
  },
  {
   "cell_type": "code",
   "execution_count": null,
   "metadata": {},
   "outputs": [],
   "source": []
  },
  {
   "cell_type": "code",
   "execution_count": null,
   "metadata": {},
   "outputs": [],
   "source": []
  },
  {
   "cell_type": "code",
   "execution_count": null,
   "metadata": {},
   "outputs": [],
   "source": []
  },
  {
   "cell_type": "code",
   "execution_count": null,
   "metadata": {},
   "outputs": [],
   "source": []
  },
  {
   "cell_type": "code",
   "execution_count": null,
   "metadata": {},
   "outputs": [],
   "source": []
  }
 ],
 "metadata": {
  "kernelspec": {
   "display_name": "Python 3 (ipykernel)",
   "language": "python",
   "name": "python3"
  },
  "language_info": {
   "codemirror_mode": {
    "name": "ipython",
    "version": 3
   },
   "file_extension": ".py",
   "mimetype": "text/x-python",
   "name": "python",
   "nbconvert_exporter": "python",
   "pygments_lexer": "ipython3",
   "version": "3.9.16"
  }
 },
 "nbformat": 4,
 "nbformat_minor": 4
}
